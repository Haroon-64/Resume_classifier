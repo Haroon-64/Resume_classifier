{
 "cells": [
  {
   "cell_type": "code",
   "execution_count": null,
   "metadata": {
    "ExecuteTime": {
     "end_time": "2023-12-20T15:44:13.672579181Z",
     "start_time": "2023-12-20T15:44:13.669079619Z"
    }
   },
   "outputs": [],
   "source": [
    "import pandas as pd\n",
    "import matplotlib.pyplot as plt\n",
    "import seaborn as sns\n",
    "import tensorflow as tf\n",
    "import tensorflow_hub as hub\n",
    "\n",
    "from IPython.display import Image\n",
    "import datetime\n",
    "import os\n",
    "\n",
    "from sklearn.model_selection import train_test_split\n",
    "from keras import backend as K"
   ]
  },
  {
   "cell_type": "code",
   "execution_count": 6,
   "metadata": {
    "ExecuteTime": {
     "end_time": "2023-12-20T15:44:13.737092550Z",
     "start_time": "2023-12-20T15:44:13.672834670Z"
    }
   },
   "outputs": [
    {
     "name": "stdout",
     "output_type": "stream",
     "text": [
      "c:\\Users\\Haroon\\Documents\\Resume_classifier\\Data\n"
     ]
    },
    {
     "data": {
      "text/html": [
       "<div>\n",
       "<style scoped>\n",
       "    .dataframe tbody tr th:only-of-type {\n",
       "        vertical-align: middle;\n",
       "    }\n",
       "\n",
       "    .dataframe tbody tr th {\n",
       "        vertical-align: top;\n",
       "    }\n",
       "\n",
       "    .dataframe thead th {\n",
       "        text-align: right;\n",
       "    }\n",
       "</style>\n",
       "<table border=\"1\" class=\"dataframe\">\n",
       "  <thead>\n",
       "    <tr style=\"text-align: right;\">\n",
       "      <th></th>\n",
       "      <th>path</th>\n",
       "      <th>filename</th>\n",
       "      <th>kind</th>\n",
       "    </tr>\n",
       "  </thead>\n",
       "  <tbody>\n",
       "    <tr>\n",
       "      <th>0</th>\n",
       "      <td>c:\\Users\\Haroon\\Documents\\Resume_classifier\\Da...</td>\n",
       "      <td>doc_000042</td>\n",
       "      <td>email</td>\n",
       "    </tr>\n",
       "    <tr>\n",
       "      <th>0</th>\n",
       "      <td>c:\\Users\\Haroon\\Documents\\Resume_classifier\\Da...</td>\n",
       "      <td>doc_000046</td>\n",
       "      <td>email</td>\n",
       "    </tr>\n",
       "    <tr>\n",
       "      <th>0</th>\n",
       "      <td>c:\\Users\\Haroon\\Documents\\Resume_classifier\\Da...</td>\n",
       "      <td>doc_000076</td>\n",
       "      <td>email</td>\n",
       "    </tr>\n",
       "    <tr>\n",
       "      <th>0</th>\n",
       "      <td>c:\\Users\\Haroon\\Documents\\Resume_classifier\\Da...</td>\n",
       "      <td>doc_000079</td>\n",
       "      <td>email</td>\n",
       "    </tr>\n",
       "    <tr>\n",
       "      <th>0</th>\n",
       "      <td>c:\\Users\\Haroon\\Documents\\Resume_classifier\\Da...</td>\n",
       "      <td>doc_000111</td>\n",
       "      <td>email</td>\n",
       "    </tr>\n",
       "    <tr>\n",
       "      <th>...</th>\n",
       "      <td>...</td>\n",
       "      <td>...</td>\n",
       "      <td>...</td>\n",
       "    </tr>\n",
       "    <tr>\n",
       "      <th>0</th>\n",
       "      <td>c:\\Users\\Haroon\\Documents\\Resume_classifier\\Da...</td>\n",
       "      <td>doc_000845</td>\n",
       "      <td>scientific_publication</td>\n",
       "    </tr>\n",
       "    <tr>\n",
       "      <th>0</th>\n",
       "      <td>c:\\Users\\Haroon\\Documents\\Resume_classifier\\Da...</td>\n",
       "      <td>doc_000864</td>\n",
       "      <td>scientific_publication</td>\n",
       "    </tr>\n",
       "    <tr>\n",
       "      <th>0</th>\n",
       "      <td>c:\\Users\\Haroon\\Documents\\Resume_classifier\\Da...</td>\n",
       "      <td>doc_000891</td>\n",
       "      <td>scientific_publication</td>\n",
       "    </tr>\n",
       "    <tr>\n",
       "      <th>0</th>\n",
       "      <td>c:\\Users\\Haroon\\Documents\\Resume_classifier\\Da...</td>\n",
       "      <td>doc_000942</td>\n",
       "      <td>scientific_publication</td>\n",
       "    </tr>\n",
       "    <tr>\n",
       "      <th>0</th>\n",
       "      <td>c:\\Users\\Haroon\\Documents\\Resume_classifier\\Da...</td>\n",
       "      <td>doc_000950</td>\n",
       "      <td>scientific_publication</td>\n",
       "    </tr>\n",
       "  </tbody>\n",
       "</table>\n",
       "<p>165 rows × 3 columns</p>\n",
       "</div>"
      ],
      "text/plain": [
       "                                                 path    filename  \\\n",
       "0   c:\\Users\\Haroon\\Documents\\Resume_classifier\\Da...  doc_000042   \n",
       "0   c:\\Users\\Haroon\\Documents\\Resume_classifier\\Da...  doc_000046   \n",
       "0   c:\\Users\\Haroon\\Documents\\Resume_classifier\\Da...  doc_000076   \n",
       "0   c:\\Users\\Haroon\\Documents\\Resume_classifier\\Da...  doc_000079   \n",
       "0   c:\\Users\\Haroon\\Documents\\Resume_classifier\\Da...  doc_000111   \n",
       "..                                                ...         ...   \n",
       "0   c:\\Users\\Haroon\\Documents\\Resume_classifier\\Da...  doc_000845   \n",
       "0   c:\\Users\\Haroon\\Documents\\Resume_classifier\\Da...  doc_000864   \n",
       "0   c:\\Users\\Haroon\\Documents\\Resume_classifier\\Da...  doc_000891   \n",
       "0   c:\\Users\\Haroon\\Documents\\Resume_classifier\\Da...  doc_000942   \n",
       "0   c:\\Users\\Haroon\\Documents\\Resume_classifier\\Da...  doc_000950   \n",
       "\n",
       "                      kind  \n",
       "0                    email  \n",
       "0                    email  \n",
       "0                    email  \n",
       "0                    email  \n",
       "0                    email  \n",
       "..                     ...  \n",
       "0   scientific_publication  \n",
       "0   scientific_publication  \n",
       "0   scientific_publication  \n",
       "0   scientific_publication  \n",
       "0   scientific_publication  \n",
       "\n",
       "[165 rows x 3 columns]"
      ]
     },
     "execution_count": 6,
     "metadata": {},
     "output_type": "execute_result"
    }
   ],
   "source": [
    "# Load data as path, filename, kind in subfolder 'Data'\n",
    "root_path = os.path.join(os.getcwd(), \"Data\")\n",
    "print(root_path)\n",
    "data = pd.DataFrame()\n",
    "\n",
    "for subfolder in os.listdir(root_path):\n",
    "    subfolder_path = os.path.join(root_path, subfolder)\n",
    "    if os.path.isdir(subfolder_path):  # Check if it's a directory\n",
    "        files = [file for file in os.listdir(subfolder_path) if os.path.isfile(os.path.join(subfolder_path, file))]\n",
    "        for file in files:\n",
    "            file_path = os.path.join(subfolder_path, file)\n",
    "            file_name, _ = os.path.splitext(os.path.basename(file_path))\n",
    "            path_without_extension = os.path.splitext(os.path.basename(file_path))[0]\n",
    "            x = [[file_path, file_name, subfolder]]\n",
    "            x = pd.DataFrame(x)\n",
    "            data = pd.concat([data, x])\n",
    "            \n",
    "data = data.set_axis(['path', 'filename', 'kind'], axis='columns')\n",
    "data"
   ]
  },
  {
   "cell_type": "code",
   "execution_count": null,
   "metadata": {
    "ExecuteTime": {
     "end_time": "2023-12-20T15:44:13.738176562Z",
     "start_time": "2023-12-20T15:44:13.735797061Z"
    },
    "collapsed": false
   },
   "outputs": [],
   "source": [
    "Image(data.iloc[0,0])"
   ]
  },
  {
   "cell_type": "code",
   "execution_count": 110,
   "metadata": {
    "ExecuteTime": {
     "end_time": "2023-12-20T15:44:13.842504297Z",
     "start_time": "2023-12-20T15:44:13.783840005Z"
    }
   },
   "outputs": [
    {
     "data": {
      "text/plain": [
       "{'scientific_publication': 0, 'resume': 1, 'email': 2}"
      ]
     },
     "execution_count": 110,
     "metadata": {},
     "output_type": "execute_result"
    }
   ],
   "source": [
    "Labels = data['kind'].unique()\n",
    "I_L = {label: index for index, label in enumerate(Labels)}\n",
    "key_map = {index: label for index, label in enumerate(Labels)}\n",
    "I_L"
   ]
  },
  {
   "cell_type": "code",
   "execution_count": 111,
   "metadata": {
    "ExecuteTime": {
     "end_time": "2023-12-20T15:51:53.724002085Z",
     "start_time": "2023-12-20T15:51:53.683119008Z"
    }
   },
   "outputs": [],
   "source": [
    "X = data['path']\n",
    "Y = data['kind'].map(I_L)"
   ]
  },
  {
   "cell_type": "code",
   "execution_count": 112,
   "metadata": {
    "ExecuteTime": {
     "end_time": "2023-12-20T15:44:13.843340775Z",
     "start_time": "2023-12-20T15:44:13.784292323Z"
    },
    "collapsed": false
   },
   "outputs": [
    {
     "data": {
      "text/plain": [
       "(132, 132, 33, 33)"
      ]
     },
     "execution_count": 112,
     "metadata": {},
     "output_type": "execute_result"
    }
   ],
   "source": [
    "X_train, X_test, y_train, y_test = train_test_split(X, Y, test_size=0.2, random_state=42)\n",
    "len(X_train),len(y_train),len(y_test),len(X_test)"
   ]
  },
  {
   "cell_type": "code",
   "execution_count": 113,
   "metadata": {
    "ExecuteTime": {
     "end_time": "2023-12-20T15:44:13.843652730Z",
     "start_time": "2023-12-20T15:44:13.784457333Z"
    },
    "collapsed": false
   },
   "outputs": [],
   "source": [
    "# some constants\n",
    "IMG_SIZE = 128\n",
    "BATCH_SIZE = 165\n",
    "INPUT_SHAPE = [None, IMG_SIZE, IMG_SIZE, 3]\n",
    "OUTPUT_SHAPE = len(Labels)"
   ]
  },
  {
   "cell_type": "code",
   "execution_count": 114,
   "metadata": {
    "ExecuteTime": {
     "end_time": "2023-12-20T15:44:13.843938035Z",
     "start_time": "2023-12-20T15:44:13.784593979Z"
    },
    "collapsed": false
   },
   "outputs": [],
   "source": [
    "# utility functions\n",
    "def process_img(path, size=(IMG_SIZE, IMG_SIZE)):   \n",
    "    \"\"\"convert image at some path to tensor\"\"\"\n",
    "    img = tf.io.read_file(path)\n",
    "    img = tf.image.decode_image(img, channels=3, expand_animations=False)\n",
    "    img = tf.image.convert_image_dtype(img, tf.float32)  # scale values [0-1]\n",
    "    img = tf.image.resize(img, size)\n",
    "    img = tf.expand_dims(img, axis=0)  # Add batch dimension\n",
    "    return img\n",
    "\n",
    "def tuple_tensor(_x,y):\n",
    "    \"\"\"create tuple of image and label for train data\"\"\"\n",
    "    \n",
    "    return process_img(_x) , y\n",
    "\n",
    "def d_batch(_x, y=None, batch_size=BATCH_SIZE, testdata=False):\n",
    "    if testdata:\n",
    "        print(\"test batch\")\n",
    "        d = tf.data.Dataset.from_tensor_slices(_x)\n",
    "        data_batch = d.batch(batch_size)\n",
    "        return data_batch\n",
    "    else:\n",
    "        print(\"train batch\")\n",
    "        d = tf.data.Dataset.from_tensor_slices((_x, tf.constant(y)))\n",
    "        d = d.shuffle(buffer_size=len(_x))\n",
    "        d = d.map(tuple_tensor)\n",
    "        data_batch = d.batch(batch_size)\n",
    "        return data_batch\n",
    "\n",
    "def unbatch(bat, is_test=False):\n",
    "    \"\"\"\n",
    "    Unbatch dataset of (image, label) tensor\n",
    "    Return array of image array of label\n",
    "    \"\"\"\n",
    "    img_ = []\n",
    "    lab_ = []\n",
    "\n",
    "    for batch_img in bat.unbatch().as_numpy_iterator():\n",
    "        if is_test:\n",
    "            img_.extend(batch_img)\n",
    "            lab_.extend([None] * len(batch_img))\n",
    "        else:\n",
    "            img_, lab_ = zip(*batch_img)\n",
    "            img_.extend(img_)\n",
    "            lab_.extend(lab_)\n",
    "\n",
    "    return img_, lab_\n",
    "\n",
    "def save_model(m,suffix =None):\n",
    "    \"\"\"Save the model and append extra info to name\"\"\"\n",
    "    d= os.path.join(\"saved_models\",datetime.datetime.now().strftime('%Y-%m-%d-%H-%M'))\n",
    "    path =d + \"-\" + suffix + \".keras\"\n",
    "    print(\"saving\")\n",
    "    m.save(path)\n",
    "    return path"
   ]
  },
  {
   "cell_type": "code",
   "execution_count": 115,
   "metadata": {
    "ExecuteTime": {
     "end_time": "2023-12-20T15:44:13.844294544Z",
     "start_time": "2023-12-20T15:44:13.784796950Z"
    },
    "collapsed": false
   },
   "outputs": [
    {
     "name": "stdout",
     "output_type": "stream",
     "text": [
      "train batch\n",
      "test batch\n"
     ]
    }
   ],
   "source": [
    "train_data = d_batch(X_train, y_train)\n",
    "test_data = d_batch(X_test, y_test, testdata=True)"
   ]
  },
  {
   "cell_type": "code",
   "execution_count": 116,
   "metadata": {
    "ExecuteTime": {
     "end_time": "2023-12-20T15:44:13.844576542Z",
     "start_time": "2023-12-20T15:44:13.794877842Z"
    },
    "collapsed": false
   },
   "outputs": [],
   "source": [
    "# callbacks\n",
    "early_stopping_callback = tf.keras.callbacks.EarlyStopping(\n",
    "    monitor=\"loss\",\n",
    "    patience=3,\n",
    "    restore_best_weights=True\n",
    ")\n",
    "tensorboard_callback = tf.keras.callbacks.TensorBoard(\n",
    "    log_dir=os.path.join(\"logs/\", datetime.datetime.now().strftime(\"%Y%m%d-%H%M%S\"))\n",
    ")"
   ]
  },
  {
   "cell_type": "code",
   "execution_count": 117,
   "metadata": {},
   "outputs": [],
   "source": [
    "# metrics\n",
    "def recall_m(y_true, y_pred):\n",
    "    \"\"\"calculate recall\"\"\"\n",
    "    true_positives = K.sum(K.round(K.clip(y_true * y_pred, 0, 1)))\n",
    "    possible_positives = K.sum(K.round(K.clip(y_true, 0, 1)))\n",
    "    recall = true_positives / (possible_positives + K.epsilon())\n",
    "    return recall\n",
    "\n",
    "def precision_m(y_true, y_pred):\n",
    "    \"\"\"calculate precision\"\"\"\n",
    "    true_positives = K.sum(K.round(K.clip(y_true * y_pred, 0, 1)))\n",
    "    predicted_positives = K.sum(K.round(K.clip(y_pred, 0, 1)))\n",
    "    precision = true_positives / (predicted_positives + K.epsilon())\n",
    "    return precision\n",
    "\n",
    "def f1_m(y_true, y_pred):\n",
    "    \"\"\"calculate f1 score\"\"\"\n",
    "    precision = precision_m(y_true, y_pred)\n",
    "    recall = recall_m(y_true, y_pred)\n",
    "    return 2*((precision*recall)/(precision+recall+K.epsilon()))"
   ]
  },
  {
   "cell_type": "code",
   "execution_count": 118,
   "metadata": {
    "ExecuteTime": {
     "end_time": "2023-12-20T15:44:19.321094128Z",
     "start_time": "2023-12-20T15:44:13.798449109Z"
    },
    "collapsed": false
   },
   "outputs": [
    {
     "name": "stdout",
     "output_type": "stream",
     "text": [
      "Model: \"sequential_11\"\n",
      "_________________________________________________________________\n",
      " Layer (type)                Output Shape              Param #   \n",
      "=================================================================\n",
      " keras_layer_11 (KerasLayer  (None, 1001)              1692489   \n",
      " )                                                               \n",
      "                                                                 \n",
      " dense_11 (Dense)            (None, 3)                 3006      \n",
      "                                                                 \n",
      "=================================================================\n",
      "Total params: 1695495 (6.47 MB)\n",
      "Trainable params: 3006 (11.74 KB)\n",
      "Non-trainable params: 1692489 (6.46 MB)\n",
      "_________________________________________________________________\n",
      "Epoch 1/100\n",
      "1/1 [==============================] - 2s 2s/step - loss: 1.4525 - acc: 0.3030 - f1_m: 1.1782 - precision_m: 1.0439 - recall_m: 1.3523\n",
      "Epoch 2/100\n",
      "1/1 [==============================] - 0s 70ms/step - loss: 1.1174 - acc: 0.4545 - f1_m: 1.2209 - precision_m: 1.2500 - recall_m: 1.1932\n",
      "Epoch 3/100\n",
      "1/1 [==============================] - 0s 68ms/step - loss: 0.9856 - acc: 0.5227 - f1_m: 1.1591 - precision_m: 1.1591 - recall_m: 1.1591\n",
      "Epoch 4/100\n",
      "1/1 [==============================] - 0s 70ms/step - loss: 0.9121 - acc: 0.5682 - f1_m: 1.0860 - precision_m: 1.0306 - recall_m: 1.1477\n",
      "Epoch 5/100\n",
      "1/1 [==============================] - 0s 69ms/step - loss: 0.8194 - acc: 0.6136 - f1_m: 1.0316 - precision_m: 0.9608 - recall_m: 1.1136\n",
      "Epoch 6/100\n",
      "1/1 [==============================] - 0s 70ms/step - loss: 0.7215 - acc: 0.6818 - f1_m: 0.9081 - precision_m: 0.8660 - recall_m: 0.9545\n",
      "Epoch 7/100\n",
      "1/1 [==============================] - 0s 69ms/step - loss: 0.6489 - acc: 0.7045 - f1_m: 0.8705 - precision_m: 0.8000 - recall_m: 0.9545\n",
      "Epoch 8/100\n",
      "1/1 [==============================] - 0s 70ms/step - loss: 0.6125 - acc: 0.7197 - f1_m: 0.8390 - precision_m: 0.7350 - recall_m: 0.9773\n",
      "Epoch 9/100\n",
      "1/1 [==============================] - 0s 74ms/step - loss: 0.5983 - acc: 0.7500 - f1_m: 0.8667 - precision_m: 0.7459 - recall_m: 1.0341\n",
      "Epoch 10/100\n",
      "1/1 [==============================] - 0s 72ms/step - loss: 0.5845 - acc: 0.7500 - f1_m: 0.8679 - precision_m: 0.7419 - recall_m: 1.0455\n",
      "Epoch 11/100\n",
      "1/1 [==============================] - 0s 68ms/step - loss: 0.5617 - acc: 0.7576 - f1_m: 0.8505 - precision_m: 0.7222 - recall_m: 1.0341\n",
      "Epoch 12/100\n",
      "1/1 [==============================] - 0s 69ms/step - loss: 0.5335 - acc: 0.8030 - f1_m: 0.8626 - precision_m: 0.7398 - recall_m: 1.0341\n",
      "Epoch 13/100\n",
      "1/1 [==============================] - 0s 69ms/step - loss: 0.5084 - acc: 0.8333 - f1_m: 0.8476 - precision_m: 0.7295 - recall_m: 1.0114\n",
      "Epoch 14/100\n",
      "1/1 [==============================] - 0s 70ms/step - loss: 0.4914 - acc: 0.8333 - f1_m: 0.8381 - precision_m: 0.7213 - recall_m: 1.0000\n",
      "Epoch 15/100\n",
      "1/1 [==============================] - 0s 71ms/step - loss: 0.4816 - acc: 0.8333 - f1_m: 0.8476 - precision_m: 0.7295 - recall_m: 1.0114\n",
      "Epoch 16/100\n",
      "1/1 [==============================] - 0s 70ms/step - loss: 0.4740 - acc: 0.8258 - f1_m: 0.8476 - precision_m: 0.7295 - recall_m: 1.0114\n",
      "Epoch 17/100\n",
      "1/1 [==============================] - 0s 71ms/step - loss: 0.4639 - acc: 0.8333 - f1_m: 0.8421 - precision_m: 0.7273 - recall_m: 1.0000\n",
      "Epoch 18/100\n",
      "1/1 [==============================] - 0s 70ms/step - loss: 0.4499 - acc: 0.8485 - f1_m: 0.8269 - precision_m: 0.7167 - recall_m: 0.9773\n",
      "Epoch 19/100\n",
      "1/1 [==============================] - 0s 70ms/step - loss: 0.4340 - acc: 0.8409 - f1_m: 0.8626 - precision_m: 0.7398 - recall_m: 1.0341\n",
      "Epoch 20/100\n",
      "1/1 [==============================] - 0s 71ms/step - loss: 0.4190 - acc: 0.8636 - f1_m: 0.8558 - precision_m: 0.7244 - recall_m: 1.0455\n",
      "Epoch 21/100\n",
      "1/1 [==============================] - 0s 69ms/step - loss: 0.4069 - acc: 0.8636 - f1_m: 0.8611 - precision_m: 0.7266 - recall_m: 1.0568\n",
      "Epoch 22/100\n",
      "1/1 [==============================] - 0s 71ms/step - loss: 0.3974 - acc: 0.8712 - f1_m: 0.8479 - precision_m: 0.7132 - recall_m: 1.0455\n",
      "Epoch 23/100\n",
      "1/1 [==============================] - 0s 70ms/step - loss: 0.3888 - acc: 0.8636 - f1_m: 0.8611 - precision_m: 0.7266 - recall_m: 1.0568\n",
      "Epoch 24/100\n",
      "1/1 [==============================] - 0s 70ms/step - loss: 0.3794 - acc: 0.8636 - f1_m: 0.8558 - precision_m: 0.7244 - recall_m: 1.0455\n",
      "Epoch 25/100\n",
      "1/1 [==============================] - 0s 68ms/step - loss: 0.3687 - acc: 0.8788 - f1_m: 0.8426 - precision_m: 0.7109 - recall_m: 1.0341\n",
      "Epoch 26/100\n",
      "1/1 [==============================] - 0s 70ms/step - loss: 0.3574 - acc: 0.8788 - f1_m: 0.8333 - precision_m: 0.7031 - recall_m: 1.0227\n",
      "Epoch 27/100\n",
      "1/1 [==============================] - 0s 69ms/step - loss: 0.3467 - acc: 0.8939 - f1_m: 0.8426 - precision_m: 0.7109 - recall_m: 1.0341\n",
      "Epoch 28/100\n",
      "1/1 [==============================] - 0s 70ms/step - loss: 0.3375 - acc: 0.8939 - f1_m: 0.8333 - precision_m: 0.7031 - recall_m: 1.0227\n",
      "Epoch 29/100\n",
      "1/1 [==============================] - 0s 69ms/step - loss: 0.3299 - acc: 0.9015 - f1_m: 0.8186 - precision_m: 0.6929 - recall_m: 1.0000\n",
      "Epoch 30/100\n",
      "1/1 [==============================] - 0s 69ms/step - loss: 0.3230 - acc: 0.8939 - f1_m: 0.8318 - precision_m: 0.7063 - recall_m: 1.0114\n",
      "Epoch 31/100\n",
      "1/1 [==============================] - 0s 70ms/step - loss: 0.3162 - acc: 0.9015 - f1_m: 0.8372 - precision_m: 0.7087 - recall_m: 1.0227\n",
      "Epoch 32/100\n",
      "1/1 [==============================] - 0s 74ms/step - loss: 0.3089 - acc: 0.9015 - f1_m: 0.8333 - precision_m: 0.7031 - recall_m: 1.0227\n",
      "Epoch 33/100\n",
      "1/1 [==============================] - 0s 70ms/step - loss: 0.3013 - acc: 0.9015 - f1_m: 0.8279 - precision_m: 0.7008 - recall_m: 1.0114\n",
      "Epoch 34/100\n",
      "1/1 [==============================] - 0s 68ms/step - loss: 0.2940 - acc: 0.9091 - f1_m: 0.8224 - precision_m: 0.6984 - recall_m: 1.0000\n",
      "Epoch 35/100\n",
      "1/1 [==============================] - 0s 69ms/step - loss: 0.2874 - acc: 0.9242 - f1_m: 0.8333 - precision_m: 0.7031 - recall_m: 1.0227\n",
      "Epoch 36/100\n",
      "1/1 [==============================] - 0s 68ms/step - loss: 0.2817 - acc: 0.9242 - f1_m: 0.8333 - precision_m: 0.7031 - recall_m: 1.0227\n",
      "Epoch 37/100\n",
      "1/1 [==============================] - 0s 69ms/step - loss: 0.2765 - acc: 0.9318 - f1_m: 0.8426 - precision_m: 0.7109 - recall_m: 1.0341\n",
      "Epoch 38/100\n",
      "1/1 [==============================] - 0s 69ms/step - loss: 0.2714 - acc: 0.9318 - f1_m: 0.8479 - precision_m: 0.7132 - recall_m: 1.0455\n",
      "Epoch 39/100\n",
      "1/1 [==============================] - 0s 69ms/step - loss: 0.2662 - acc: 0.9318 - f1_m: 0.8519 - precision_m: 0.7188 - recall_m: 1.0455\n",
      "Epoch 40/100\n",
      "1/1 [==============================] - 0s 67ms/step - loss: 0.2608 - acc: 0.9394 - f1_m: 0.8426 - precision_m: 0.7109 - recall_m: 1.0341\n",
      "Epoch 41/100\n",
      "1/1 [==============================] - 0s 68ms/step - loss: 0.2554 - acc: 0.9545 - f1_m: 0.8426 - precision_m: 0.7109 - recall_m: 1.0341\n",
      "Epoch 42/100\n",
      "1/1 [==============================] - 0s 70ms/step - loss: 0.2504 - acc: 0.9545 - f1_m: 0.8295 - precision_m: 0.6977 - recall_m: 1.0227\n",
      "Epoch 43/100\n",
      "1/1 [==============================] - 0s 70ms/step - loss: 0.2458 - acc: 0.9545 - f1_m: 0.8165 - precision_m: 0.6846 - recall_m: 1.0114\n",
      "Epoch 44/100\n",
      "1/1 [==============================] - 0s 70ms/step - loss: 0.2416 - acc: 0.9470 - f1_m: 0.8165 - precision_m: 0.6846 - recall_m: 1.0114\n",
      "Epoch 45/100\n",
      "1/1 [==============================] - 0s 70ms/step - loss: 0.2375 - acc: 0.9470 - f1_m: 0.8018 - precision_m: 0.6744 - recall_m: 0.9886\n",
      "Epoch 46/100\n",
      "1/1 [==============================] - 0s 69ms/step - loss: 0.2333 - acc: 0.9470 - f1_m: 0.8018 - precision_m: 0.6744 - recall_m: 0.9886\n",
      "Epoch 47/100\n",
      "1/1 [==============================] - 0s 76ms/step - loss: 0.2291 - acc: 0.9470 - f1_m: 0.8073 - precision_m: 0.6769 - recall_m: 1.0000\n",
      "Epoch 48/100\n",
      "1/1 [==============================] - 0s 68ms/step - loss: 0.2250 - acc: 0.9470 - f1_m: 0.8073 - precision_m: 0.6769 - recall_m: 1.0000\n",
      "Epoch 49/100\n",
      "1/1 [==============================] - 0s 69ms/step - loss: 0.2210 - acc: 0.9470 - f1_m: 0.8111 - precision_m: 0.6822 - recall_m: 1.0000\n",
      "Epoch 50/100\n",
      "1/1 [==============================] - 0s 69ms/step - loss: 0.2173 - acc: 0.9394 - f1_m: 0.8111 - precision_m: 0.6822 - recall_m: 1.0000\n",
      "Epoch 51/100\n",
      "1/1 [==============================] - 0s 69ms/step - loss: 0.2138 - acc: 0.9394 - f1_m: 0.8073 - precision_m: 0.6769 - recall_m: 1.0000\n",
      "Epoch 52/100\n",
      "1/1 [==============================] - 0s 69ms/step - loss: 0.2104 - acc: 0.9470 - f1_m: 0.8165 - precision_m: 0.6846 - recall_m: 1.0114\n",
      "Epoch 53/100\n",
      "1/1 [==============================] - 0s 68ms/step - loss: 0.2071 - acc: 0.9470 - f1_m: 0.8165 - precision_m: 0.6846 - recall_m: 1.0114\n",
      "Epoch 54/100\n",
      "1/1 [==============================] - 0s 74ms/step - loss: 0.2038 - acc: 0.9394 - f1_m: 0.8165 - precision_m: 0.6846 - recall_m: 1.0114\n",
      "Epoch 55/100\n",
      "1/1 [==============================] - 0s 69ms/step - loss: 0.2005 - acc: 0.9394 - f1_m: 0.8073 - precision_m: 0.6769 - recall_m: 1.0000\n",
      "Epoch 56/100\n",
      "1/1 [==============================] - 0s 67ms/step - loss: 0.1974 - acc: 0.9394 - f1_m: 0.8018 - precision_m: 0.6744 - recall_m: 0.9886\n",
      "Epoch 57/100\n",
      "1/1 [==============================] - 0s 68ms/step - loss: 0.1944 - acc: 0.9394 - f1_m: 0.8018 - precision_m: 0.6744 - recall_m: 0.9886\n",
      "Epoch 58/100\n",
      "1/1 [==============================] - 0s 66ms/step - loss: 0.1915 - acc: 0.9394 - f1_m: 0.8018 - precision_m: 0.6744 - recall_m: 0.9886\n",
      "Epoch 59/100\n",
      "1/1 [==============================] - 0s 68ms/step - loss: 0.1888 - acc: 0.9394 - f1_m: 0.8018 - precision_m: 0.6744 - recall_m: 0.9886\n",
      "Epoch 60/100\n",
      "1/1 [==============================] - 0s 70ms/step - loss: 0.1860 - acc: 0.9394 - f1_m: 0.8018 - precision_m: 0.6744 - recall_m: 0.9886\n",
      "Epoch 61/100\n",
      "1/1 [==============================] - 0s 69ms/step - loss: 0.1833 - acc: 0.9394 - f1_m: 0.8018 - precision_m: 0.6744 - recall_m: 0.9886\n",
      "Epoch 62/100\n",
      "1/1 [==============================] - 0s 70ms/step - loss: 0.1807 - acc: 0.9394 - f1_m: 0.8018 - precision_m: 0.6744 - recall_m: 0.9886\n",
      "Epoch 63/100\n",
      "1/1 [==============================] - 0s 70ms/step - loss: 0.1781 - acc: 0.9470 - f1_m: 0.7982 - precision_m: 0.6692 - recall_m: 0.9886\n",
      "Epoch 64/100\n",
      "1/1 [==============================] - 0s 70ms/step - loss: 0.1755 - acc: 0.9470 - f1_m: 0.7982 - precision_m: 0.6692 - recall_m: 0.9886\n",
      "Epoch 65/100\n",
      "1/1 [==============================] - 0s 71ms/step - loss: 0.1731 - acc: 0.9470 - f1_m: 0.7982 - precision_m: 0.6692 - recall_m: 0.9886\n",
      "Epoch 66/100\n",
      "1/1 [==============================] - 0s 67ms/step - loss: 0.1708 - acc: 0.9545 - f1_m: 0.7982 - precision_m: 0.6692 - recall_m: 0.9886\n",
      "Epoch 67/100\n",
      "1/1 [==============================] - 0s 68ms/step - loss: 0.1684 - acc: 0.9545 - f1_m: 0.7982 - precision_m: 0.6692 - recall_m: 0.9886\n",
      "Epoch 68/100\n",
      "1/1 [==============================] - 0s 68ms/step - loss: 0.1662 - acc: 0.9545 - f1_m: 0.8037 - precision_m: 0.6718 - recall_m: 1.0000\n",
      "Epoch 69/100\n",
      "1/1 [==============================] - 0s 69ms/step - loss: 0.1639 - acc: 0.9545 - f1_m: 0.8073 - precision_m: 0.6769 - recall_m: 1.0000\n",
      "Epoch 70/100\n",
      "1/1 [==============================] - 0s 71ms/step - loss: 0.1618 - acc: 0.9545 - f1_m: 0.8111 - precision_m: 0.6822 - recall_m: 1.0000\n",
      "Epoch 71/100\n",
      "1/1 [==============================] - 0s 69ms/step - loss: 0.1597 - acc: 0.9621 - f1_m: 0.8111 - precision_m: 0.6822 - recall_m: 1.0000\n",
      "Epoch 72/100\n",
      "1/1 [==============================] - 0s 69ms/step - loss: 0.1576 - acc: 0.9697 - f1_m: 0.8111 - precision_m: 0.6822 - recall_m: 1.0000\n",
      "Epoch 73/100\n",
      "1/1 [==============================] - 0s 68ms/step - loss: 0.1556 - acc: 0.9697 - f1_m: 0.8073 - precision_m: 0.6769 - recall_m: 1.0000\n",
      "Epoch 74/100\n",
      "1/1 [==============================] - 0s 68ms/step - loss: 0.1537 - acc: 0.9697 - f1_m: 0.8073 - precision_m: 0.6769 - recall_m: 1.0000\n",
      "Epoch 75/100\n",
      "1/1 [==============================] - 0s 68ms/step - loss: 0.1518 - acc: 0.9697 - f1_m: 0.8073 - precision_m: 0.6769 - recall_m: 1.0000\n",
      "Epoch 76/100\n",
      "1/1 [==============================] - 0s 73ms/step - loss: 0.1500 - acc: 0.9697 - f1_m: 0.8037 - precision_m: 0.6718 - recall_m: 1.0000\n",
      "Epoch 77/100\n",
      "1/1 [==============================] - 0s 72ms/step - loss: 0.1482 - acc: 0.9697 - f1_m: 0.8037 - precision_m: 0.6718 - recall_m: 1.0000\n",
      "Epoch 78/100\n",
      "1/1 [==============================] - 0s 70ms/step - loss: 0.1464 - acc: 0.9697 - f1_m: 0.8037 - precision_m: 0.6718 - recall_m: 1.0000\n",
      "Epoch 79/100\n",
      "1/1 [==============================] - 0s 69ms/step - loss: 0.1447 - acc: 0.9697 - f1_m: 0.8037 - precision_m: 0.6718 - recall_m: 1.0000\n",
      "Epoch 80/100\n",
      "1/1 [==============================] - 0s 67ms/step - loss: 0.1431 - acc: 0.9697 - f1_m: 0.8091 - precision_m: 0.6742 - recall_m: 1.0114\n",
      "Epoch 81/100\n",
      "1/1 [==============================] - 0s 67ms/step - loss: 0.1414 - acc: 0.9697 - f1_m: 0.8091 - precision_m: 0.6742 - recall_m: 1.0114\n",
      "Epoch 82/100\n",
      "1/1 [==============================] - 0s 68ms/step - loss: 0.1398 - acc: 0.9697 - f1_m: 0.8182 - precision_m: 0.6818 - recall_m: 1.0227\n",
      "Epoch 83/100\n",
      "1/1 [==============================] - 0s 68ms/step - loss: 0.1382 - acc: 0.9697 - f1_m: 0.8182 - precision_m: 0.6818 - recall_m: 1.0227\n",
      "Epoch 84/100\n",
      "1/1 [==============================] - 0s 68ms/step - loss: 0.1367 - acc: 0.9697 - f1_m: 0.8219 - precision_m: 0.6870 - recall_m: 1.0227\n",
      "Epoch 85/100\n",
      "1/1 [==============================] - 0s 67ms/step - loss: 0.1352 - acc: 0.9697 - f1_m: 0.8219 - precision_m: 0.6870 - recall_m: 1.0227\n",
      "Epoch 86/100\n",
      "1/1 [==============================] - 0s 67ms/step - loss: 0.1337 - acc: 0.9773 - f1_m: 0.8219 - precision_m: 0.6870 - recall_m: 1.0227\n",
      "Epoch 87/100\n",
      "1/1 [==============================] - 0s 67ms/step - loss: 0.1323 - acc: 0.9773 - f1_m: 0.8219 - precision_m: 0.6870 - recall_m: 1.0227\n",
      "Epoch 88/100\n",
      "1/1 [==============================] - 0s 67ms/step - loss: 0.1309 - acc: 0.9773 - f1_m: 0.8219 - precision_m: 0.6870 - recall_m: 1.0227\n",
      "Epoch 89/100\n",
      "1/1 [==============================] - 0s 67ms/step - loss: 0.1295 - acc: 0.9773 - f1_m: 0.8219 - precision_m: 0.6870 - recall_m: 1.0227\n",
      "Epoch 90/100\n",
      "1/1 [==============================] - 0s 67ms/step - loss: 0.1281 - acc: 0.9773 - f1_m: 0.8182 - precision_m: 0.6818 - recall_m: 1.0227\n",
      "Epoch 91/100\n",
      "1/1 [==============================] - 0s 67ms/step - loss: 0.1268 - acc: 0.9773 - f1_m: 0.8182 - precision_m: 0.6818 - recall_m: 1.0227\n",
      "Epoch 92/100\n",
      "1/1 [==============================] - 0s 69ms/step - loss: 0.1255 - acc: 0.9773 - f1_m: 0.8182 - precision_m: 0.6818 - recall_m: 1.0227\n",
      "Epoch 93/100\n",
      "1/1 [==============================] - 0s 68ms/step - loss: 0.1242 - acc: 0.9773 - f1_m: 0.8182 - precision_m: 0.6818 - recall_m: 1.0227\n",
      "Epoch 94/100\n",
      "1/1 [==============================] - 0s 69ms/step - loss: 0.1229 - acc: 0.9773 - f1_m: 0.8182 - precision_m: 0.6818 - recall_m: 1.0227\n",
      "Epoch 95/100\n",
      "1/1 [==============================] - 0s 71ms/step - loss: 0.1217 - acc: 0.9773 - f1_m: 0.8182 - precision_m: 0.6818 - recall_m: 1.0227\n",
      "Epoch 96/100\n",
      "1/1 [==============================] - 0s 72ms/step - loss: 0.1205 - acc: 0.9773 - f1_m: 0.8182 - precision_m: 0.6818 - recall_m: 1.0227\n",
      "Epoch 97/100\n",
      "1/1 [==============================] - 0s 67ms/step - loss: 0.1193 - acc: 0.9773 - f1_m: 0.8219 - precision_m: 0.6870 - recall_m: 1.0227\n",
      "Epoch 98/100\n",
      "1/1 [==============================] - 0s 66ms/step - loss: 0.1181 - acc: 0.9773 - f1_m: 0.8219 - precision_m: 0.6870 - recall_m: 1.0227\n",
      "Epoch 99/100\n",
      "1/1 [==============================] - 0s 67ms/step - loss: 0.1169 - acc: 0.9773 - f1_m: 0.8219 - precision_m: 0.6870 - recall_m: 1.0227\n",
      "Epoch 100/100\n",
      "1/1 [==============================] - 0s 66ms/step - loss: 0.1158 - acc: 0.9773 - f1_m: 0.8219 - precision_m: 0.6870 - recall_m: 1.0227\n"
     ]
    },
    {
     "data": {
      "text/plain": [
       "<keras.src.callbacks.History at 0x7fdc0629b1f0>"
      ]
     },
     "execution_count": 118,
     "metadata": {},
     "output_type": "execute_result"
    }
   ],
   "source": [
    "model = tf.keras.Sequential([\n",
    "    hub.KerasLayer(\"https://www.kaggle.com/models/google/mobilenet-v2/frameworks/TensorFlow2/variations/035-128-classification/versions/2\",\n",
    "                   input_shape=[IMG_SIZE,IMG_SIZE,3], trainable=False),\n",
    "    tf.keras.layers.Dense(units=OUTPUT_SHAPE,\n",
    "                        activation=\"softmax\")\n",
    "])\n",
    "model.compile(\n",
    "    loss=tf.keras.losses.sparse_categorical_crossentropy,\n",
    "    optimizer=tf.keras.optimizers.Adam(),\n",
    "    metrics=[\"acc\",f1_m,precision_m, recall_m]\n",
    ")\n",
    "\n",
    "model.build(INPUT_SHAPE)\n",
    "X_train_preprocessed = tf.concat([process_img(path) for path in X_train], axis=0)\n",
    "model.summary()\n",
    "model.fit(X_train_preprocessed, y_train, epochs=100, batch_size=BATCH_SIZE,callbacks=[\n",
    "    early_stopping_callback,\n",
    "    tensorboard_callback\n",
    "])"
   ]
  },
  {
   "cell_type": "code",
   "execution_count": 119,
   "metadata": {
    "ExecuteTime": {
     "start_time": "2023-12-20T15:44:19.322658391Z"
    },
    "collapsed": false
   },
   "outputs": [
    {
     "name": "stderr",
     "output_type": "stream",
     "text": [
      "UsageError: Line magic function `%tensorboard` not found.\n"
     ]
    }
   ],
   "source": [
    "%tensorboard --dir C:\\Users\\Haroon\\Documents\\VS-Code\\py\\TensorFlow_\\logs"
   ]
  },
  {
   "cell_type": "code",
   "execution_count": 132,
   "metadata": {},
   "outputs": [
    {
     "name": "stdout",
     "output_type": "stream",
     "text": [
      "2/2 [==============================] - 0s 8ms/step\n"
     ]
    },
    {
     "data": {
      "image/png": "[encoded data removed]",
      "text/plain": [
       "<Figure size 1000x800 with 2 Axes>"
      ]
     },
     "metadata": {},
     "output_type": "display_data"
    }
   ],
   "source": [
    "X_test_preprocessed = tf.concat([process_img(path) for path in X_test], axis=0)\n",
    "pred_probs = model.predict(X_test_preprocessed)\n",
    "\n",
    "fig, ax = plt.subplots(figsize=(10, 8))\n",
    "sns.heatmap(pred_probs, annot=True, cmap='viridis', xticklabels=Labels, yticklabels=False, ax=ax)\n",
    "ax.set_xlabel('Predicted Class')\n",
    "ax.set_ylabel('Sample Index')\n",
    "ax.set_title('Predicted Probabilities Heatmap')\n",
    "plt.show()"
   ]
  },
  {
   "cell_type": "code",
   "execution_count": 127,
   "metadata": {},
   "outputs": [
    {
     "data": {
      "text/plain": [
       "<Axes: >"
      ]
     },
     "execution_count": 127,
     "metadata": {},
     "output_type": "execute_result"
    },
    {
     "data": {
      "image/png": "[encoded data removed]",
      "text/plain": [
       "<Figure size 640x480 with 2 Axes>"
      ]
     },
     "metadata": {},
     "output_type": "display_data"
    }
   ],
   "source": [
    "cfm =tf.math.confusion_matrix(labels=y_test,predictions=tf.argmax(pred_probs,axis=1))\n",
    "sns.heatmap(cfm)"
   ]
  },
  {
   "cell_type": "code",
   "execution_count": 123,
   "metadata": {},
   "outputs": [
    {
     "name": "stdout",
     "output_type": "stream",
     "text": [
      "2/2 [==============================] - 0s 30ms/step - loss: 0.4662 - acc: 0.7879 - f1_m: 0.9038 - precision_m: 0.8387 - recall_m: 1.0000\n"
     ]
    },
    {
     "data": {
      "text/plain": [
       "[0.4661817252635956,\n",
       " 0.7878788113594055,\n",
       " 0.903846025466919,\n",
       " 0.8387095928192139,\n",
       " 0.9999999403953552]"
      ]
     },
     "execution_count": 123,
     "metadata": {},
     "output_type": "execute_result"
    }
   ],
   "source": [
    "model.evaluate(X_test_preprocessed, y_test)"
   ]
  },
  {
   "cell_type": "code",
   "execution_count": 130,
   "metadata": {},
   "outputs": [
    {
     "name": "stdout",
     "output_type": "stream",
     "text": [
      "saving\n"
     ]
    },
    {
     "name": "stderr",
     "output_type": "stream",
     "text": [
      "/home/haroon/.local/lib/python3.10/site-packages/keras/src/engine/training.py:3103: UserWarning: You are saving your model as an HDF5 file via `model.save()`. This file format is considered legacy. We recommend using instead the native Keras format, e.g. `model.save('my_model.keras')`.\n",
      "  saving_api.save_model(\n"
     ]
    },
    {
     "data": {
      "text/plain": [
       "'saved_models/2023-12-20-23-24-.h5'"
      ]
     },
     "execution_count": 130,
     "metadata": {},
     "output_type": "execute_result"
    }
   ],
   "source": [
    "save_model(model,suffix =\"resume_class_128_mobilenetv2\")"
   ]
  }
 ],
 "metadata": {
  "kernelspec": {
   "display_name": "tf",
   "language": "python",
   "name": "python3"
  },
  "language_info": {
   "codemirror_mode": {
    "name": "ipython",
    "version": 3
   },
   "file_extension": ".py",
   "mimetype": "text/x-python",
   "name": "python",
   "nbconvert_exporter": "python",
   "pygments_lexer": "ipython3",
   "version": "3.11.3"
  }
 },
 "nbformat": 4,
 "nbformat_minor": 2
}
